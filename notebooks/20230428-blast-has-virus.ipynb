{
 "cells": [
  {
   "cell_type": "markdown",
   "id": "4d3e881c",
   "metadata": {},
   "source": [
    "# Filter BLAST results to reads that didn't hit human"
   ]
  },
  {
   "cell_type": "markdown",
   "id": "22d970aa",
   "metadata": {},
   "source": [
    "## Notebook setup"
   ]
  },
  {
   "cell_type": "code",
   "execution_count": 2,
   "id": "4cffc120",
   "metadata": {
    "vscode": {
     "languageId": "r"
    }
   },
   "outputs": [],
   "source": [
    "library(readr)\n",
    "library(dplyr, warn.conflicts = F)\n",
    "library(tidyr)\n",
    "library(janitor, warn.conflicts = F)\n",
    "library(stringr)\n",
    "library(purrr)"
   ]
  },
  {
   "cell_type": "code",
   "execution_count": 3,
   "id": "d5a519c3",
   "metadata": {
    "vscode": {
     "languageId": "r"
    }
   },
   "outputs": [],
   "source": [
    "setwd(\"..\")"
   ]
  },
  {
   "cell_type": "markdown",
   "id": "68baf8cf",
   "metadata": {},
   "source": [
    "## Read in NCBI BLAST results\n",
    "\n",
    "These results are from BLASTing the reads that hit viral capsids against the full NCBI nt database to make sure that they weren't actually of human/clone origin, and instead are more likely to be viruses."
   ]
  },
  {
   "cell_type": "code",
   "execution_count": 4,
   "id": "51780019",
   "metadata": {
    "vscode": {
     "languageId": "r"
    }
   },
   "outputs": [],
   "source": [
    "files <- Sys.glob(\"outputs/capsid_blast_pident90_blastn/*lineages.tsv\")"
   ]
  },
  {
   "cell_type": "code",
   "execution_count": 6,
   "id": "ffa2baca",
   "metadata": {
    "vscode": {
     "languageId": "r"
    }
   },
   "outputs": [
    {
     "name": "stderr",
     "output_type": "stream",
     "text": [
      "Warning message:\n",
      "“\u001b[1m\u001b[22mOne or more parsing issues, call `problems()` on your data frame for details, e.g.:\n",
      "  dat <- vroom(...)\n",
      "  problems(dat)”\n",
      "Warning message:\n",
      "“\u001b[1m\u001b[22mOne or more parsing issues, call `problems()` on your data frame for details, e.g.:\n",
      "  dat <- vroom(...)\n",
      "  problems(dat)”\n",
      "Warning message:\n",
      "“\u001b[1m\u001b[22mOne or more parsing issues, call `problems()` on your data frame for details, e.g.:\n",
      "  dat <- vroom(...)\n",
      "  problems(dat)”\n",
      "Warning message:\n",
      "“\u001b[1m\u001b[22mOne or more parsing issues, call `problems()` on your data frame for details, e.g.:\n",
      "  dat <- vroom(...)\n",
      "  problems(dat)”\n",
      "Warning message:\n",
      "“\u001b[1m\u001b[22mOne or more parsing issues, call `problems()` on your data frame for details, e.g.:\n",
      "  dat <- vroom(...)\n",
      "  problems(dat)”\n",
      "Warning message:\n",
      "“\u001b[1m\u001b[22mOne or more parsing issues, call `problems()` on your data frame for details, e.g.:\n",
      "  dat <- vroom(...)\n",
      "  problems(dat)”\n",
      "Warning message:\n",
      "“\u001b[1m\u001b[22mOne or more parsing issues, call `problems()` on your data frame for details, e.g.:\n",
      "  dat <- vroom(...)\n",
      "  problems(dat)”\n",
      "Warning message:\n",
      "“\u001b[1m\u001b[22mOne or more parsing issues, call `problems()` on your data frame for details, e.g.:\n",
      "  dat <- vroom(...)\n",
      "  problems(dat)”\n",
      "Warning message:\n",
      "“\u001b[1m\u001b[22mOne or more parsing issues, call `problems()` on your data frame for details, e.g.:\n",
      "  dat <- vroom(...)\n",
      "  problems(dat)”\n",
      "Warning message:\n",
      "“\u001b[1m\u001b[22mOne or more parsing issues, call `problems()` on your data frame for details, e.g.:\n",
      "  dat <- vroom(...)\n",
      "  problems(dat)”\n",
      "Warning message:\n",
      "“\u001b[1m\u001b[22mOne or more parsing issues, call `problems()` on your data frame for details, e.g.:\n",
      "  dat <- vroom(...)\n",
      "  problems(dat)”\n",
      "Warning message:\n",
      "“\u001b[1m\u001b[22mOne or more parsing issues, call `problems()` on your data frame for details, e.g.:\n",
      "  dat <- vroom(...)\n",
      "  problems(dat)”\n",
      "Warning message:\n",
      "“\u001b[1m\u001b[22mOne or more parsing issues, call `problems()` on your data frame for details, e.g.:\n",
      "  dat <- vroom(...)\n",
      "  problems(dat)”\n",
      "Warning message:\n",
      "“\u001b[1m\u001b[22mOne or more parsing issues, call `problems()` on your data frame for details, e.g.:\n",
      "  dat <- vroom(...)\n",
      "  problems(dat)”\n",
      "Warning message:\n",
      "“\u001b[1m\u001b[22mOne or more parsing issues, call `problems()` on your data frame for details, e.g.:\n",
      "  dat <- vroom(...)\n",
      "  problems(dat)”\n",
      "Warning message:\n",
      "“\u001b[1m\u001b[22mOne or more parsing issues, call `problems()` on your data frame for details, e.g.:\n",
      "  dat <- vroom(...)\n",
      "  problems(dat)”\n",
      "Warning message:\n",
      "“\u001b[1m\u001b[22mOne or more parsing issues, call `problems()` on your data frame for details, e.g.:\n",
      "  dat <- vroom(...)\n",
      "  problems(dat)”\n",
      "Warning message:\n",
      "“\u001b[1m\u001b[22mOne or more parsing issues, call `problems()` on your data frame for details, e.g.:\n",
      "  dat <- vroom(...)\n",
      "  problems(dat)”\n",
      "Warning message:\n",
      "“\u001b[1m\u001b[22mOne or more parsing issues, call `problems()` on your data frame for details, e.g.:\n",
      "  dat <- vroom(...)\n",
      "  problems(dat)”\n",
      "Warning message:\n",
      "“\u001b[1m\u001b[22mOne or more parsing issues, call `problems()` on your data frame for details, e.g.:\n",
      "  dat <- vroom(...)\n",
      "  problems(dat)”\n",
      "Warning message:\n",
      "“\u001b[1m\u001b[22mOne or more parsing issues, call `problems()` on your data frame for details, e.g.:\n",
      "  dat <- vroom(...)\n",
      "  problems(dat)”\n",
      "Warning message:\n",
      "“\u001b[1m\u001b[22mOne or more parsing issues, call `problems()` on your data frame for details, e.g.:\n",
      "  dat <- vroom(...)\n",
      "  problems(dat)”\n",
      "Warning message:\n",
      "“\u001b[1m\u001b[22mOne or more parsing issues, call `problems()` on your data frame for details, e.g.:\n",
      "  dat <- vroom(...)\n",
      "  problems(dat)”\n",
      "Warning message:\n",
      "“\u001b[1m\u001b[22mOne or more parsing issues, call `problems()` on your data frame for details, e.g.:\n",
      "  dat <- vroom(...)\n",
      "  problems(dat)”\n",
      "Warning message:\n",
      "“\u001b[1m\u001b[22mOne or more parsing issues, call `problems()` on your data frame for details, e.g.:\n",
      "  dat <- vroom(...)\n",
      "  problems(dat)”\n",
      "Warning message:\n",
      "“\u001b[1m\u001b[22mOne or more parsing issues, call `problems()` on your data frame for details, e.g.:\n",
      "  dat <- vroom(...)\n",
      "  problems(dat)”\n",
      "Warning message:\n",
      "“\u001b[1m\u001b[22mOne or more parsing issues, call `problems()` on your data frame for details, e.g.:\n",
      "  dat <- vroom(...)\n",
      "  problems(dat)”\n"
     ]
    }
   ],
   "source": [
    "blast <- files %>%\n",
    "  set_names() %>%\n",
    "  map_dfr(read_tsv, col_names = c('qseqid', 'sseqid', 'pident', 'length', 'mismatch',\n",
    "                                  'gapopen', 'qstart', 'qend', 'qlen', 'sstart',\n",
    "                                  'send', \"slen\", \"evalue\", \"bitscore\", \"sgi\",\n",
    "                                  \"sacc\", 'staxids', 'sscinames', 'scomnames', 'slineage'),\n",
    "          col_types = \"ccdddddddddddccdccc\", .id = \"vog\", show_col_types = F) %>%\n",
    "  mutate(vog = gsub(\"_lineages.tsv\", \"\", basename(vog)),\n",
    "         vog = gsub(\"^[^_]*_\", \"\", vog)) %>%\n",
    "  separate(slineage, into = c(\"superkingdom\", \"kingdom\", \"phylum\", \"class\", \"order\", \"family\", \"genus\", \"species\", \"strain\"), sep = \";\") %>%\n",
    "  separate(qseqid, into = c(\"run\", \"read\"), sep = \"\\\\.\", remove = F) %>%\n",
    "  separate(read, into = c(\"read\", \"pair\"), sep = \"\\\\/\") %>%\n",
    "  mutate(run_vog = paste0(run, \"_\", vog))\n"
   ]
  },
  {
   "cell_type": "code",
   "execution_count": 7,
   "id": "64a05bf2",
   "metadata": {
    "vscode": {
     "languageId": "r"
    }
   },
   "outputs": [],
   "source": [
    "# rescue empty files that had no BLAST results, as these should not be disqualified as non virus just bc they weren't in the nt database\n",
    "files_empty <- files[file.size(files) == 0L]\n",
    "files_empty_df <- data.frame(vog = gsub(\"_lineages.tsv\", \"\", basename(files_empty))) %>%\n",
    "  mutate(run = gsub(\"_.*\", \"\", vog),\n",
    "         vog = gsub(\"^[^_]*_\", \"\", vog),\n",
    "         superkingdom = \"maybe Viruses\")"
   ]
  },
  {
   "cell_type": "code",
   "execution_count": 8,
   "id": "43e13d50",
   "metadata": {
    "vscode": {
     "languageId": "r"
    }
   },
   "outputs": [],
   "source": [
    "blast <- bind_rows(blast, files_empty_df)"
   ]
  },
  {
   "cell_type": "markdown",
   "id": "efca3efa",
   "metadata": {},
   "source": [
    "## Filter out human and vector hits"
   ]
  },
  {
   "cell_type": "code",
   "execution_count": 9,
   "id": "1af2f5b6",
   "metadata": {
    "vscode": {
     "languageId": "r"
    }
   },
   "outputs": [],
   "source": [
    "# filter to samples/VOGs that contained human at all\n",
    "human <- blast %>%\n",
    "  filter(staxids == 9606) # remove human, which has taxid 9606\n",
    "\n",
    "# remove sample/VOG combinations that matched to human\n",
    "blast_human_rm <- blast %>%\n",
    "  filter(!run_vog %in% human$run_vog)"
   ]
  },
  {
   "cell_type": "code",
   "execution_count": 10,
   "id": "f8ab9722",
   "metadata": {
    "vscode": {
     "languageId": "r"
    }
   },
   "outputs": [],
   "source": [
    "# filter to sample/VOGs that matched vectors\n",
    "vector <- blast_human_rm %>%\n",
    "  filter(str_detect(string = species, pattern = \"[Vv]ector\"))\n",
    "\n",
    "# remove sample/VOG combinations that matched vectors\n",
    "blast_human_rm <- blast_human_rm %>%\n",
    "  filter(!run_vog %in% vector$run_vog)"
   ]
  },
  {
   "cell_type": "code",
   "execution_count": 11,
   "id": "6e667594",
   "metadata": {
    "vscode": {
     "languageId": "r"
    }
   },
   "outputs": [],
   "source": [
    "blast_human_rm_tally <- blast_human_rm %>%\n",
    "  group_by(run, vog, superkingdom) %>% #, kingdom, phylum, class, order, family, genus, species) %>%\n",
    "  tally() "
   ]
  },
  {
   "cell_type": "code",
   "execution_count": 12,
   "id": "bd62ccd9",
   "metadata": {
    "vscode": {
     "languageId": "r"
    }
   },
   "outputs": [],
   "source": [
    "blast_has_virus <- blast_human_rm_tally %>%\n",
    "  filter(str_detect(string = superkingdom, pattern = \"Viruses\")) %>%\n",
    "  arrange(desc(vog))"
   ]
  },
  {
   "cell_type": "code",
   "execution_count": 14,
   "id": "cb819ea4",
   "metadata": {
    "vscode": {
     "languageId": "r"
    }
   },
   "outputs": [],
   "source": [
    "# rejoin with sample metadata to get an idea of how long it will take to run and sequencing type\n",
    "metadata <- read_csv(\"inputs/concat_accessions_brain_03302023.csv\", show_col_types = F) %>%\n",
    "  clean_names() %>%\n",
    "  mutate(gb = round(bytes * 1e-9, digits = 2)) %>%\n",
    "  mutate(maybe_sc = ifelse(bio_project %in% c(\"PRJNA736951\", \"PRJNA245456\", \"PRJEB24579\", \"PRJNA273155\"), \n",
    "                           \"possibly_sc\", \"not_sc\"))"
   ]
  },
  {
   "cell_type": "code",
   "execution_count": 16,
   "id": "ce3ac660",
   "metadata": {
    "vscode": {
     "languageId": "r"
    }
   },
   "outputs": [],
   "source": [
    "virus_abund_pident90 <- read_tsv(\"virus_abundances_pident90.tsv\", show_col_types = F) %>% # note this file is produced by the explore_capsid_blast_results.ipynb\n",
    "  select(lca_lineage_named, vog = sseqid)\n",
    "\n",
    "# mark samples that were already qc'd (saves time since intermediate files have already been produced)\n",
    "already_qcd <- c('SRR14925054', 'SRR14862871', 'ERR2262623', 'SRR9292628', 'SRR1779080')"
   ]
  },
  {
   "cell_type": "code",
   "execution_count": 17,
   "id": "4e588c2d",
   "metadata": {
    "vscode": {
     "languageId": "r"
    }
   },
   "outputs": [
    {
     "data": {
      "text/html": [
       "<table class=\"dataframe\">\n",
       "<caption>A grouped_df: 11 × 67</caption>\n",
       "<thead>\n",
       "\t<tr><th scope=col>run</th><th scope=col>vog</th><th scope=col>lca_lineage_named</th><th scope=col>superkingdom</th><th scope=col>n</th><th scope=col>bio_project</th><th scope=col>maybe_sc</th><th scope=col>gb</th><th scope=col>already_qcd</th><th scope=col>assay_type</th><th scope=col>⋯</th><th scope=col>insdc_center_alias</th><th scope=col>insdc_center_name</th><th scope=col>insdc_first_public</th><th scope=col>insdc_last_update</th><th scope=col>insdc_status</th><th scope=col>sample_name_2</th><th scope=col>submitter_id</th><th scope=col>disease_stage</th><th scope=col>treatment</th><th scope=col>invididual</th></tr>\n",
       "\t<tr><th scope=col>&lt;chr&gt;</th><th scope=col>&lt;chr&gt;</th><th scope=col>&lt;chr&gt;</th><th scope=col>&lt;chr&gt;</th><th scope=col>&lt;int&gt;</th><th scope=col>&lt;chr&gt;</th><th scope=col>&lt;chr&gt;</th><th scope=col>&lt;dbl&gt;</th><th scope=col>&lt;chr&gt;</th><th scope=col>&lt;chr&gt;</th><th scope=col>⋯</th><th scope=col>&lt;chr&gt;</th><th scope=col>&lt;chr&gt;</th><th scope=col>&lt;dttm&gt;</th><th scope=col>&lt;dttm&gt;</th><th scope=col>&lt;chr&gt;</th><th scope=col>&lt;chr&gt;</th><th scope=col>&lt;chr&gt;</th><th scope=col>&lt;chr&gt;</th><th scope=col>&lt;chr&gt;</th><th scope=col>&lt;chr&gt;</th></tr>\n",
       "</thead>\n",
       "<tbody>\n",
       "\t<tr><td>SRR14788345</td><td>1891718.YP_007346963.1</td><td>Viruses;Shotokuvirae;Cossaviricota;Papovaviricetes;Sepolyvirales;Polyomaviridae;Alphapolyomavirus;Alphapolyomavirus cardiodermae;unclassified Alphapolyomavirus cardiodermae subspecies/strain  </td><td>maybe Viruses</td><td>   1</td><td>PRJNA736951</td><td>possibly_sc</td><td>25.13</td><td>not_qcd</td><td>WGS    </td><td>⋯</td><td>NA</td><td>NA</td><td>NA</td><td>NA</td><td>NA</td><td>NA</td><td>NA</td><td>NA      </td><td>NA       </td><td>NA                </td></tr>\n",
       "\t<tr><td>SRR14862871</td><td>1891718.YP_007346963.1</td><td>Viruses;Shotokuvirae;Cossaviricota;Papovaviricetes;Sepolyvirales;Polyomaviridae;Alphapolyomavirus;Alphapolyomavirus cardiodermae;unclassified Alphapolyomavirus cardiodermae subspecies/strain  </td><td>maybe Viruses</td><td>   1</td><td>PRJNA736951</td><td>possibly_sc</td><td>87.33</td><td>qcd    </td><td>WGS    </td><td>⋯</td><td>NA</td><td>NA</td><td>NA</td><td>NA</td><td>NA</td><td>NA</td><td>NA</td><td>NA      </td><td>NA       </td><td>NA                </td></tr>\n",
       "\t<tr><td>SRR14862884</td><td>1891718.YP_007346963.1</td><td>Viruses;Shotokuvirae;Cossaviricota;Papovaviricetes;Sepolyvirales;Polyomaviridae;Alphapolyomavirus;Alphapolyomavirus cardiodermae;unclassified Alphapolyomavirus cardiodermae subspecies/strain  </td><td>maybe Viruses</td><td>   1</td><td>PRJNA736951</td><td>possibly_sc</td><td>49.02</td><td>not_qcd</td><td>WGS    </td><td>⋯</td><td>NA</td><td>NA</td><td>NA</td><td>NA</td><td>NA</td><td>NA</td><td>NA</td><td>NA      </td><td>NA       </td><td>NA                </td></tr>\n",
       "\t<tr><td>SRR14999724</td><td>1891718.YP_007346963.1</td><td>Viruses;Shotokuvirae;Cossaviricota;Papovaviricetes;Sepolyvirales;Polyomaviridae;Alphapolyomavirus;Alphapolyomavirus cardiodermae;unclassified Alphapolyomavirus cardiodermae subspecies/strain  </td><td>maybe Viruses</td><td>   1</td><td>PRJNA736951</td><td>possibly_sc</td><td>23.44</td><td>not_qcd</td><td>WGS    </td><td>⋯</td><td>NA</td><td>NA</td><td>NA</td><td>NA</td><td>NA</td><td>NA</td><td>NA</td><td>NA      </td><td>NA       </td><td>NA                </td></tr>\n",
       "\t<tr><td>SRR8750801 </td><td>1891718.YP_007346963.1</td><td>Viruses;Shotokuvirae;Cossaviricota;Papovaviricetes;Sepolyvirales;Polyomaviridae;Alphapolyomavirus;Alphapolyomavirus cardiodermae;unclassified Alphapolyomavirus cardiodermae subspecies/strain  </td><td>Viruses      </td><td>  52</td><td>PRJNA527986</td><td>not_sc     </td><td> 1.94</td><td>not_qcd</td><td>RNA-Seq</td><td>⋯</td><td>NA</td><td>NA</td><td>NA</td><td>NA</td><td>NA</td><td>NA</td><td>NA</td><td>NA      </td><td>NA       </td><td>NA                </td></tr>\n",
       "\t<tr><td>SRR1778915 </td><td>1277649.YP_007354884.1</td><td>Viruses;Shotokuvirae;Cossaviricota;Papovaviricetes;Sepolyvirales;Polyomaviridae;Deltapolyomavirus;Deltapolyomavirus undecihominis;unclassified Deltapolyomavirus undecihominis subspecies/strain</td><td>Viruses      </td><td>1315</td><td>PRJNA273155</td><td>possibly_sc</td><td> 1.86</td><td>not_qcd</td><td>WGS    </td><td>⋯</td><td>NA</td><td>NA</td><td>NA</td><td>NA</td><td>NA</td><td>NA</td><td>NA</td><td>grade IV</td><td>untreated</td><td>PRJNA273155_Age_65</td></tr>\n",
       "\t<tr><td>SRR1779200 </td><td>1277649.YP_007354884.1</td><td>Viruses;Shotokuvirae;Cossaviricota;Papovaviricetes;Sepolyvirales;Polyomaviridae;Deltapolyomavirus;Deltapolyomavirus undecihominis;unclassified Deltapolyomavirus undecihominis subspecies/strain</td><td>maybe Viruses</td><td>   1</td><td>PRJNA273155</td><td>possibly_sc</td><td> 0.33</td><td>not_qcd</td><td>WGS    </td><td>⋯</td><td>NA</td><td>NA</td><td>NA</td><td>NA</td><td>NA</td><td>NA</td><td>NA</td><td>grade IV</td><td>untreated</td><td>PRJNA273155_Age_65</td></tr>\n",
       "\t<tr><td>SRR14862871</td><td>10798.YP_004928146.1  </td><td>Viruses;Shotokuvirae;Cossaviricota;Quintoviricetes;Piccovirales;Parvoviridae;Erythroparvovirus;unclassified Erythroparvovirus species;unclassified Erythroparvovirus subspecies/strain          </td><td>Viruses      </td><td> 396</td><td>PRJNA736951</td><td>possibly_sc</td><td>87.33</td><td>qcd    </td><td>WGS    </td><td>⋯</td><td>NA</td><td>NA</td><td>NA</td><td>NA</td><td>NA</td><td>NA</td><td>NA</td><td>NA      </td><td>NA       </td><td>NA                </td></tr>\n",
       "\t<tr><td>SRR8750456 </td><td>10617.NP_040895.1     </td><td>Viruses;Shotokuvirae;Cossaviricota;Papovaviricetes;Zurhausenvirales;Papillomaviridae;Gammapapillomavirus;Gammapapillomavirus 1;unclassified Gammapapillomavirus 1 subspecies/strain             </td><td>Viruses      </td><td>  40</td><td>PRJNA527986</td><td>not_sc     </td><td> 2.17</td><td>not_qcd</td><td>RNA-Seq</td><td>⋯</td><td>NA</td><td>NA</td><td>NA</td><td>NA</td><td>NA</td><td>NA</td><td>NA</td><td>NA      </td><td>NA       </td><td>NA                </td></tr>\n",
       "\t<tr><td>SRR8750473 </td><td>10617.NP_040895.1     </td><td>Viruses;Shotokuvirae;Cossaviricota;Papovaviricetes;Zurhausenvirales;Papillomaviridae;Gammapapillomavirus;Gammapapillomavirus 1;unclassified Gammapapillomavirus 1 subspecies/strain             </td><td>Viruses      </td><td>  56</td><td>PRJNA527986</td><td>not_sc     </td><td> 1.83</td><td>not_qcd</td><td>RNA-Seq</td><td>⋯</td><td>NA</td><td>NA</td><td>NA</td><td>NA</td><td>NA</td><td>NA</td><td>NA</td><td>NA      </td><td>NA       </td><td>NA                </td></tr>\n",
       "\t<tr><td>SRR8750734 </td><td>10519.AP_000545.1     </td><td>Viruses;Bamfordvirae;Preplasmiviricota;Tectiliviricetes;Rowavirales;Adenoviridae;Mastadenovirus;Human mastadenovirus B;unclassified Human mastadenovirus B subspecies/strain                    </td><td>Viruses      </td><td>  36</td><td>PRJNA527986</td><td>not_sc     </td><td> 1.81</td><td>not_qcd</td><td>RNA-Seq</td><td>⋯</td><td>NA</td><td>NA</td><td>NA</td><td>NA</td><td>NA</td><td>NA</td><td>NA</td><td>NA      </td><td>NA       </td><td>NA                </td></tr>\n",
       "</tbody>\n",
       "</table>\n"
      ],
      "text/latex": [
       "A grouped\\_df: 11 × 67\n",
       "\\begin{tabular}{lllllllllllllllllllll}\n",
       " run & vog & lca\\_lineage\\_named & superkingdom & n & bio\\_project & maybe\\_sc & gb & already\\_qcd & assay\\_type & ⋯ & insdc\\_center\\_alias & insdc\\_center\\_name & insdc\\_first\\_public & insdc\\_last\\_update & insdc\\_status & sample\\_name\\_2 & submitter\\_id & disease\\_stage & treatment & invididual\\\\\n",
       " <chr> & <chr> & <chr> & <chr> & <int> & <chr> & <chr> & <dbl> & <chr> & <chr> & ⋯ & <chr> & <chr> & <dttm> & <dttm> & <chr> & <chr> & <chr> & <chr> & <chr> & <chr>\\\\\n",
       "\\hline\n",
       "\t SRR14788345 & 1891718.YP\\_007346963.1 & Viruses;Shotokuvirae;Cossaviricota;Papovaviricetes;Sepolyvirales;Polyomaviridae;Alphapolyomavirus;Alphapolyomavirus cardiodermae;unclassified Alphapolyomavirus cardiodermae subspecies/strain   & maybe Viruses &    1 & PRJNA736951 & possibly\\_sc & 25.13 & not\\_qcd & WGS     & ⋯ & NA & NA & NA & NA & NA & NA & NA & NA       & NA        & NA                \\\\\n",
       "\t SRR14862871 & 1891718.YP\\_007346963.1 & Viruses;Shotokuvirae;Cossaviricota;Papovaviricetes;Sepolyvirales;Polyomaviridae;Alphapolyomavirus;Alphapolyomavirus cardiodermae;unclassified Alphapolyomavirus cardiodermae subspecies/strain   & maybe Viruses &    1 & PRJNA736951 & possibly\\_sc & 87.33 & qcd     & WGS     & ⋯ & NA & NA & NA & NA & NA & NA & NA & NA       & NA        & NA                \\\\\n",
       "\t SRR14862884 & 1891718.YP\\_007346963.1 & Viruses;Shotokuvirae;Cossaviricota;Papovaviricetes;Sepolyvirales;Polyomaviridae;Alphapolyomavirus;Alphapolyomavirus cardiodermae;unclassified Alphapolyomavirus cardiodermae subspecies/strain   & maybe Viruses &    1 & PRJNA736951 & possibly\\_sc & 49.02 & not\\_qcd & WGS     & ⋯ & NA & NA & NA & NA & NA & NA & NA & NA       & NA        & NA                \\\\\n",
       "\t SRR14999724 & 1891718.YP\\_007346963.1 & Viruses;Shotokuvirae;Cossaviricota;Papovaviricetes;Sepolyvirales;Polyomaviridae;Alphapolyomavirus;Alphapolyomavirus cardiodermae;unclassified Alphapolyomavirus cardiodermae subspecies/strain   & maybe Viruses &    1 & PRJNA736951 & possibly\\_sc & 23.44 & not\\_qcd & WGS     & ⋯ & NA & NA & NA & NA & NA & NA & NA & NA       & NA        & NA                \\\\\n",
       "\t SRR8750801  & 1891718.YP\\_007346963.1 & Viruses;Shotokuvirae;Cossaviricota;Papovaviricetes;Sepolyvirales;Polyomaviridae;Alphapolyomavirus;Alphapolyomavirus cardiodermae;unclassified Alphapolyomavirus cardiodermae subspecies/strain   & Viruses       &   52 & PRJNA527986 & not\\_sc      &  1.94 & not\\_qcd & RNA-Seq & ⋯ & NA & NA & NA & NA & NA & NA & NA & NA       & NA        & NA                \\\\\n",
       "\t SRR1778915  & 1277649.YP\\_007354884.1 & Viruses;Shotokuvirae;Cossaviricota;Papovaviricetes;Sepolyvirales;Polyomaviridae;Deltapolyomavirus;Deltapolyomavirus undecihominis;unclassified Deltapolyomavirus undecihominis subspecies/strain & Viruses       & 1315 & PRJNA273155 & possibly\\_sc &  1.86 & not\\_qcd & WGS     & ⋯ & NA & NA & NA & NA & NA & NA & NA & grade IV & untreated & PRJNA273155\\_Age\\_65\\\\\n",
       "\t SRR1779200  & 1277649.YP\\_007354884.1 & Viruses;Shotokuvirae;Cossaviricota;Papovaviricetes;Sepolyvirales;Polyomaviridae;Deltapolyomavirus;Deltapolyomavirus undecihominis;unclassified Deltapolyomavirus undecihominis subspecies/strain & maybe Viruses &    1 & PRJNA273155 & possibly\\_sc &  0.33 & not\\_qcd & WGS     & ⋯ & NA & NA & NA & NA & NA & NA & NA & grade IV & untreated & PRJNA273155\\_Age\\_65\\\\\n",
       "\t SRR14862871 & 10798.YP\\_004928146.1   & Viruses;Shotokuvirae;Cossaviricota;Quintoviricetes;Piccovirales;Parvoviridae;Erythroparvovirus;unclassified Erythroparvovirus species;unclassified Erythroparvovirus subspecies/strain           & Viruses       &  396 & PRJNA736951 & possibly\\_sc & 87.33 & qcd     & WGS     & ⋯ & NA & NA & NA & NA & NA & NA & NA & NA       & NA        & NA                \\\\\n",
       "\t SRR8750456  & 10617.NP\\_040895.1      & Viruses;Shotokuvirae;Cossaviricota;Papovaviricetes;Zurhausenvirales;Papillomaviridae;Gammapapillomavirus;Gammapapillomavirus 1;unclassified Gammapapillomavirus 1 subspecies/strain              & Viruses       &   40 & PRJNA527986 & not\\_sc      &  2.17 & not\\_qcd & RNA-Seq & ⋯ & NA & NA & NA & NA & NA & NA & NA & NA       & NA        & NA                \\\\\n",
       "\t SRR8750473  & 10617.NP\\_040895.1      & Viruses;Shotokuvirae;Cossaviricota;Papovaviricetes;Zurhausenvirales;Papillomaviridae;Gammapapillomavirus;Gammapapillomavirus 1;unclassified Gammapapillomavirus 1 subspecies/strain              & Viruses       &   56 & PRJNA527986 & not\\_sc      &  1.83 & not\\_qcd & RNA-Seq & ⋯ & NA & NA & NA & NA & NA & NA & NA & NA       & NA        & NA                \\\\\n",
       "\t SRR8750734  & 10519.AP\\_000545.1      & Viruses;Bamfordvirae;Preplasmiviricota;Tectiliviricetes;Rowavirales;Adenoviridae;Mastadenovirus;Human mastadenovirus B;unclassified Human mastadenovirus B subspecies/strain                     & Viruses       &   36 & PRJNA527986 & not\\_sc      &  1.81 & not\\_qcd & RNA-Seq & ⋯ & NA & NA & NA & NA & NA & NA & NA & NA       & NA        & NA                \\\\\n",
       "\\end{tabular}\n"
      ],
      "text/markdown": [
       "\n",
       "A grouped_df: 11 × 67\n",
       "\n",
       "| run &lt;chr&gt; | vog &lt;chr&gt; | lca_lineage_named &lt;chr&gt; | superkingdom &lt;chr&gt; | n &lt;int&gt; | bio_project &lt;chr&gt; | maybe_sc &lt;chr&gt; | gb &lt;dbl&gt; | already_qcd &lt;chr&gt; | assay_type &lt;chr&gt; | ⋯ ⋯ | insdc_center_alias &lt;chr&gt; | insdc_center_name &lt;chr&gt; | insdc_first_public &lt;dttm&gt; | insdc_last_update &lt;dttm&gt; | insdc_status &lt;chr&gt; | sample_name_2 &lt;chr&gt; | submitter_id &lt;chr&gt; | disease_stage &lt;chr&gt; | treatment &lt;chr&gt; | invididual &lt;chr&gt; |\n",
       "|---|---|---|---|---|---|---|---|---|---|---|---|---|---|---|---|---|---|---|---|---|\n",
       "| SRR14788345 | 1891718.YP_007346963.1 | Viruses;Shotokuvirae;Cossaviricota;Papovaviricetes;Sepolyvirales;Polyomaviridae;Alphapolyomavirus;Alphapolyomavirus cardiodermae;unclassified Alphapolyomavirus cardiodermae subspecies/strain   | maybe Viruses |    1 | PRJNA736951 | possibly_sc | 25.13 | not_qcd | WGS     | ⋯ | NA | NA | NA | NA | NA | NA | NA | NA       | NA        | NA                 |\n",
       "| SRR14862871 | 1891718.YP_007346963.1 | Viruses;Shotokuvirae;Cossaviricota;Papovaviricetes;Sepolyvirales;Polyomaviridae;Alphapolyomavirus;Alphapolyomavirus cardiodermae;unclassified Alphapolyomavirus cardiodermae subspecies/strain   | maybe Viruses |    1 | PRJNA736951 | possibly_sc | 87.33 | qcd     | WGS     | ⋯ | NA | NA | NA | NA | NA | NA | NA | NA       | NA        | NA                 |\n",
       "| SRR14862884 | 1891718.YP_007346963.1 | Viruses;Shotokuvirae;Cossaviricota;Papovaviricetes;Sepolyvirales;Polyomaviridae;Alphapolyomavirus;Alphapolyomavirus cardiodermae;unclassified Alphapolyomavirus cardiodermae subspecies/strain   | maybe Viruses |    1 | PRJNA736951 | possibly_sc | 49.02 | not_qcd | WGS     | ⋯ | NA | NA | NA | NA | NA | NA | NA | NA       | NA        | NA                 |\n",
       "| SRR14999724 | 1891718.YP_007346963.1 | Viruses;Shotokuvirae;Cossaviricota;Papovaviricetes;Sepolyvirales;Polyomaviridae;Alphapolyomavirus;Alphapolyomavirus cardiodermae;unclassified Alphapolyomavirus cardiodermae subspecies/strain   | maybe Viruses |    1 | PRJNA736951 | possibly_sc | 23.44 | not_qcd | WGS     | ⋯ | NA | NA | NA | NA | NA | NA | NA | NA       | NA        | NA                 |\n",
       "| SRR8750801  | 1891718.YP_007346963.1 | Viruses;Shotokuvirae;Cossaviricota;Papovaviricetes;Sepolyvirales;Polyomaviridae;Alphapolyomavirus;Alphapolyomavirus cardiodermae;unclassified Alphapolyomavirus cardiodermae subspecies/strain   | Viruses       |   52 | PRJNA527986 | not_sc      |  1.94 | not_qcd | RNA-Seq | ⋯ | NA | NA | NA | NA | NA | NA | NA | NA       | NA        | NA                 |\n",
       "| SRR1778915  | 1277649.YP_007354884.1 | Viruses;Shotokuvirae;Cossaviricota;Papovaviricetes;Sepolyvirales;Polyomaviridae;Deltapolyomavirus;Deltapolyomavirus undecihominis;unclassified Deltapolyomavirus undecihominis subspecies/strain | Viruses       | 1315 | PRJNA273155 | possibly_sc |  1.86 | not_qcd | WGS     | ⋯ | NA | NA | NA | NA | NA | NA | NA | grade IV | untreated | PRJNA273155_Age_65 |\n",
       "| SRR1779200  | 1277649.YP_007354884.1 | Viruses;Shotokuvirae;Cossaviricota;Papovaviricetes;Sepolyvirales;Polyomaviridae;Deltapolyomavirus;Deltapolyomavirus undecihominis;unclassified Deltapolyomavirus undecihominis subspecies/strain | maybe Viruses |    1 | PRJNA273155 | possibly_sc |  0.33 | not_qcd | WGS     | ⋯ | NA | NA | NA | NA | NA | NA | NA | grade IV | untreated | PRJNA273155_Age_65 |\n",
       "| SRR14862871 | 10798.YP_004928146.1   | Viruses;Shotokuvirae;Cossaviricota;Quintoviricetes;Piccovirales;Parvoviridae;Erythroparvovirus;unclassified Erythroparvovirus species;unclassified Erythroparvovirus subspecies/strain           | Viruses       |  396 | PRJNA736951 | possibly_sc | 87.33 | qcd     | WGS     | ⋯ | NA | NA | NA | NA | NA | NA | NA | NA       | NA        | NA                 |\n",
       "| SRR8750456  | 10617.NP_040895.1      | Viruses;Shotokuvirae;Cossaviricota;Papovaviricetes;Zurhausenvirales;Papillomaviridae;Gammapapillomavirus;Gammapapillomavirus 1;unclassified Gammapapillomavirus 1 subspecies/strain              | Viruses       |   40 | PRJNA527986 | not_sc      |  2.17 | not_qcd | RNA-Seq | ⋯ | NA | NA | NA | NA | NA | NA | NA | NA       | NA        | NA                 |\n",
       "| SRR8750473  | 10617.NP_040895.1      | Viruses;Shotokuvirae;Cossaviricota;Papovaviricetes;Zurhausenvirales;Papillomaviridae;Gammapapillomavirus;Gammapapillomavirus 1;unclassified Gammapapillomavirus 1 subspecies/strain              | Viruses       |   56 | PRJNA527986 | not_sc      |  1.83 | not_qcd | RNA-Seq | ⋯ | NA | NA | NA | NA | NA | NA | NA | NA       | NA        | NA                 |\n",
       "| SRR8750734  | 10519.AP_000545.1      | Viruses;Bamfordvirae;Preplasmiviricota;Tectiliviricetes;Rowavirales;Adenoviridae;Mastadenovirus;Human mastadenovirus B;unclassified Human mastadenovirus B subspecies/strain                     | Viruses       |   36 | PRJNA527986 | not_sc      |  1.81 | not_qcd | RNA-Seq | ⋯ | NA | NA | NA | NA | NA | NA | NA | NA       | NA        | NA                 |\n",
       "\n"
      ],
      "text/plain": [
       "   run         vog                   \n",
       "1  SRR14788345 1891718.YP_007346963.1\n",
       "2  SRR14862871 1891718.YP_007346963.1\n",
       "3  SRR14862884 1891718.YP_007346963.1\n",
       "4  SRR14999724 1891718.YP_007346963.1\n",
       "5  SRR8750801  1891718.YP_007346963.1\n",
       "6  SRR1778915  1277649.YP_007354884.1\n",
       "7  SRR1779200  1277649.YP_007354884.1\n",
       "8  SRR14862871 10798.YP_004928146.1  \n",
       "9  SRR8750456  10617.NP_040895.1     \n",
       "10 SRR8750473  10617.NP_040895.1     \n",
       "11 SRR8750734  10519.AP_000545.1     \n",
       "   lca_lineage_named                                                                                                                                                                               \n",
       "1  Viruses;Shotokuvirae;Cossaviricota;Papovaviricetes;Sepolyvirales;Polyomaviridae;Alphapolyomavirus;Alphapolyomavirus cardiodermae;unclassified Alphapolyomavirus cardiodermae subspecies/strain  \n",
       "2  Viruses;Shotokuvirae;Cossaviricota;Papovaviricetes;Sepolyvirales;Polyomaviridae;Alphapolyomavirus;Alphapolyomavirus cardiodermae;unclassified Alphapolyomavirus cardiodermae subspecies/strain  \n",
       "3  Viruses;Shotokuvirae;Cossaviricota;Papovaviricetes;Sepolyvirales;Polyomaviridae;Alphapolyomavirus;Alphapolyomavirus cardiodermae;unclassified Alphapolyomavirus cardiodermae subspecies/strain  \n",
       "4  Viruses;Shotokuvirae;Cossaviricota;Papovaviricetes;Sepolyvirales;Polyomaviridae;Alphapolyomavirus;Alphapolyomavirus cardiodermae;unclassified Alphapolyomavirus cardiodermae subspecies/strain  \n",
       "5  Viruses;Shotokuvirae;Cossaviricota;Papovaviricetes;Sepolyvirales;Polyomaviridae;Alphapolyomavirus;Alphapolyomavirus cardiodermae;unclassified Alphapolyomavirus cardiodermae subspecies/strain  \n",
       "6  Viruses;Shotokuvirae;Cossaviricota;Papovaviricetes;Sepolyvirales;Polyomaviridae;Deltapolyomavirus;Deltapolyomavirus undecihominis;unclassified Deltapolyomavirus undecihominis subspecies/strain\n",
       "7  Viruses;Shotokuvirae;Cossaviricota;Papovaviricetes;Sepolyvirales;Polyomaviridae;Deltapolyomavirus;Deltapolyomavirus undecihominis;unclassified Deltapolyomavirus undecihominis subspecies/strain\n",
       "8  Viruses;Shotokuvirae;Cossaviricota;Quintoviricetes;Piccovirales;Parvoviridae;Erythroparvovirus;unclassified Erythroparvovirus species;unclassified Erythroparvovirus subspecies/strain          \n",
       "9  Viruses;Shotokuvirae;Cossaviricota;Papovaviricetes;Zurhausenvirales;Papillomaviridae;Gammapapillomavirus;Gammapapillomavirus 1;unclassified Gammapapillomavirus 1 subspecies/strain             \n",
       "10 Viruses;Shotokuvirae;Cossaviricota;Papovaviricetes;Zurhausenvirales;Papillomaviridae;Gammapapillomavirus;Gammapapillomavirus 1;unclassified Gammapapillomavirus 1 subspecies/strain             \n",
       "11 Viruses;Bamfordvirae;Preplasmiviricota;Tectiliviricetes;Rowavirales;Adenoviridae;Mastadenovirus;Human mastadenovirus B;unclassified Human mastadenovirus B subspecies/strain                    \n",
       "   superkingdom  n    bio_project maybe_sc    gb    already_qcd assay_type ⋯\n",
       "1  maybe Viruses    1 PRJNA736951 possibly_sc 25.13 not_qcd     WGS        ⋯\n",
       "2  maybe Viruses    1 PRJNA736951 possibly_sc 87.33 qcd         WGS        ⋯\n",
       "3  maybe Viruses    1 PRJNA736951 possibly_sc 49.02 not_qcd     WGS        ⋯\n",
       "4  maybe Viruses    1 PRJNA736951 possibly_sc 23.44 not_qcd     WGS        ⋯\n",
       "5  Viruses         52 PRJNA527986 not_sc       1.94 not_qcd     RNA-Seq    ⋯\n",
       "6  Viruses       1315 PRJNA273155 possibly_sc  1.86 not_qcd     WGS        ⋯\n",
       "7  maybe Viruses    1 PRJNA273155 possibly_sc  0.33 not_qcd     WGS        ⋯\n",
       "8  Viruses        396 PRJNA736951 possibly_sc 87.33 qcd         WGS        ⋯\n",
       "9  Viruses         40 PRJNA527986 not_sc       2.17 not_qcd     RNA-Seq    ⋯\n",
       "10 Viruses         56 PRJNA527986 not_sc       1.83 not_qcd     RNA-Seq    ⋯\n",
       "11 Viruses         36 PRJNA527986 not_sc       1.81 not_qcd     RNA-Seq    ⋯\n",
       "   insdc_center_alias insdc_center_name insdc_first_public insdc_last_update\n",
       "1  NA                 NA                <NA>               <NA>             \n",
       "2  NA                 NA                <NA>               <NA>             \n",
       "3  NA                 NA                <NA>               <NA>             \n",
       "4  NA                 NA                <NA>               <NA>             \n",
       "5  NA                 NA                <NA>               <NA>             \n",
       "6  NA                 NA                <NA>               <NA>             \n",
       "7  NA                 NA                <NA>               <NA>             \n",
       "8  NA                 NA                <NA>               <NA>             \n",
       "9  NA                 NA                <NA>               <NA>             \n",
       "10 NA                 NA                <NA>               <NA>             \n",
       "11 NA                 NA                <NA>               <NA>             \n",
       "   insdc_status sample_name_2 submitter_id disease_stage treatment\n",
       "1  NA           NA            NA           NA            NA       \n",
       "2  NA           NA            NA           NA            NA       \n",
       "3  NA           NA            NA           NA            NA       \n",
       "4  NA           NA            NA           NA            NA       \n",
       "5  NA           NA            NA           NA            NA       \n",
       "6  NA           NA            NA           grade IV      untreated\n",
       "7  NA           NA            NA           grade IV      untreated\n",
       "8  NA           NA            NA           NA            NA       \n",
       "9  NA           NA            NA           NA            NA       \n",
       "10 NA           NA            NA           NA            NA       \n",
       "11 NA           NA            NA           NA            NA       \n",
       "   invididual        \n",
       "1  NA                \n",
       "2  NA                \n",
       "3  NA                \n",
       "4  NA                \n",
       "5  NA                \n",
       "6  PRJNA273155_Age_65\n",
       "7  PRJNA273155_Age_65\n",
       "8  NA                \n",
       "9  NA                \n",
       "10 NA                \n",
       "11 NA                "
      ]
     },
     "metadata": {},
     "output_type": "display_data"
    }
   ],
   "source": [
    "blast_has_virus <- blast_has_virus %>%\n",
    "  left_join(metadata, by = \"run\") %>%\n",
    "  left_join(virus_abund_pident90, by = \"vog\") %>%\n",
    "  mutate(already_qcd = ifelse(run %in% already_qcd, \"qcd\", \"not_qcd\")) %>%\n",
    "  relocate(run, vog, lca_lineage_named, superkingdom, n, bio_project, maybe_sc, gb, already_qcd)\n",
    "\n",
    "blast_has_virus\n",
    "# write_tsv(blast_has_virus, \"blast_has_virus_new.tsv\")"
   ]
  },
  {
   "cell_type": "markdown",
   "id": "78b13e03",
   "metadata": {},
   "source": [
    "## Identify the best viral hit per each read from BLAST results"
   ]
  },
  {
   "cell_type": "code",
   "execution_count": 18,
   "id": "df535f11",
   "metadata": {
    "vscode": {
     "languageId": "r"
    }
   },
   "outputs": [
    {
     "data": {
      "text/html": [
       "<table class=\"dataframe\">\n",
       "<caption>A grouped_df: 14 × 3</caption>\n",
       "<thead>\n",
       "\t<tr><th scope=col>run</th><th scope=col>scomnames</th><th scope=col>n</th></tr>\n",
       "\t<tr><th scope=col>&lt;chr&gt;</th><th scope=col>&lt;chr&gt;</th><th scope=col>&lt;int&gt;</th></tr>\n",
       "</thead>\n",
       "<tbody>\n",
       "\t<tr><td>SRR14862871</td><td>Human parvovirus B19 isolate B19-490, complete genome                                       </td><td> 2</td></tr>\n",
       "\t<tr><td>SRR1778915 </td><td>Deltapolyomavirus undecihominis isolate STL2825 major capsid protein (VP1) gene, partial cds</td><td>26</td></tr>\n",
       "\t<tr><td>SRR1778915 </td><td>Deltapolyomavirus undecihominis isolate STL3091 major capsid protein (VP1) gene, partial cds</td><td> 1</td></tr>\n",
       "\t<tr><td>SRR1778915 </td><td>Deltapolyomavirus undecihominis isolate STL3150 major capsid protein (VP1) gene, partial cds</td><td> 4</td></tr>\n",
       "\t<tr><td>SRR1778915 </td><td>STL polyomavirus isolate 11ww, complete genome                                              </td><td> 8</td></tr>\n",
       "\t<tr><td>SRR1778915 </td><td>STL polyomavirus isolate HB124, complete genome                                             </td><td> 4</td></tr>\n",
       "\t<tr><td>SRR1778915 </td><td>STL polyomavirus isolate HB201, complete genome                                             </td><td>63</td></tr>\n",
       "\t<tr><td>SRR1778915 </td><td>STL polyomavirus isolate Y57, complete genome                                               </td><td> 1</td></tr>\n",
       "\t<tr><td>SRR1778915 </td><td>STL polyomavirus strain WD972, complete genome                                              </td><td> 1</td></tr>\n",
       "\t<tr><td>SRR8750456 </td><td>Human papillomavirus type 4, complete genome                                                </td><td> 4</td></tr>\n",
       "\t<tr><td>SRR8750473 </td><td>MAG: Human papillomavirus isolate HPV-mSK_013, complete genome                              </td><td> 4</td></tr>\n",
       "\t<tr><td>SRR8750734 </td><td>Severe acute respiratory syndrome coronavirus 2 genome assembly, chromosome: 1              </td><td> 1</td></tr>\n",
       "\t<tr><td>SRR8750801 </td><td>Pbunalikevirus phiFenriz, complete genome                                                   </td><td> 1</td></tr>\n",
       "\t<tr><td>SRR8750801 </td><td>Severe acute respiratory syndrome coronavirus 2 genome assembly, chromosome: 1              </td><td> 1</td></tr>\n",
       "</tbody>\n",
       "</table>\n"
      ],
      "text/latex": [
       "A grouped\\_df: 14 × 3\n",
       "\\begin{tabular}{lll}\n",
       " run & scomnames & n\\\\\n",
       " <chr> & <chr> & <int>\\\\\n",
       "\\hline\n",
       "\t SRR14862871 & Human parvovirus B19 isolate B19-490, complete genome                                        &  2\\\\\n",
       "\t SRR1778915  & Deltapolyomavirus undecihominis isolate STL2825 major capsid protein (VP1) gene, partial cds & 26\\\\\n",
       "\t SRR1778915  & Deltapolyomavirus undecihominis isolate STL3091 major capsid protein (VP1) gene, partial cds &  1\\\\\n",
       "\t SRR1778915  & Deltapolyomavirus undecihominis isolate STL3150 major capsid protein (VP1) gene, partial cds &  4\\\\\n",
       "\t SRR1778915  & STL polyomavirus isolate 11ww, complete genome                                               &  8\\\\\n",
       "\t SRR1778915  & STL polyomavirus isolate HB124, complete genome                                              &  4\\\\\n",
       "\t SRR1778915  & STL polyomavirus isolate HB201, complete genome                                              & 63\\\\\n",
       "\t SRR1778915  & STL polyomavirus isolate Y57, complete genome                                                &  1\\\\\n",
       "\t SRR1778915  & STL polyomavirus strain WD972, complete genome                                               &  1\\\\\n",
       "\t SRR8750456  & Human papillomavirus type 4, complete genome                                                 &  4\\\\\n",
       "\t SRR8750473  & MAG: Human papillomavirus isolate HPV-mSK\\_013, complete genome                               &  4\\\\\n",
       "\t SRR8750734  & Severe acute respiratory syndrome coronavirus 2 genome assembly, chromosome: 1               &  1\\\\\n",
       "\t SRR8750801  & Pbunalikevirus phiFenriz, complete genome                                                    &  1\\\\\n",
       "\t SRR8750801  & Severe acute respiratory syndrome coronavirus 2 genome assembly, chromosome: 1               &  1\\\\\n",
       "\\end{tabular}\n"
      ],
      "text/markdown": [
       "\n",
       "A grouped_df: 14 × 3\n",
       "\n",
       "| run &lt;chr&gt; | scomnames &lt;chr&gt; | n &lt;int&gt; |\n",
       "|---|---|---|\n",
       "| SRR14862871 | Human parvovirus B19 isolate B19-490, complete genome                                        |  2 |\n",
       "| SRR1778915  | Deltapolyomavirus undecihominis isolate STL2825 major capsid protein (VP1) gene, partial cds | 26 |\n",
       "| SRR1778915  | Deltapolyomavirus undecihominis isolate STL3091 major capsid protein (VP1) gene, partial cds |  1 |\n",
       "| SRR1778915  | Deltapolyomavirus undecihominis isolate STL3150 major capsid protein (VP1) gene, partial cds |  4 |\n",
       "| SRR1778915  | STL polyomavirus isolate 11ww, complete genome                                               |  8 |\n",
       "| SRR1778915  | STL polyomavirus isolate HB124, complete genome                                              |  4 |\n",
       "| SRR1778915  | STL polyomavirus isolate HB201, complete genome                                              | 63 |\n",
       "| SRR1778915  | STL polyomavirus isolate Y57, complete genome                                                |  1 |\n",
       "| SRR1778915  | STL polyomavirus strain WD972, complete genome                                               |  1 |\n",
       "| SRR8750456  | Human papillomavirus type 4, complete genome                                                 |  4 |\n",
       "| SRR8750473  | MAG: Human papillomavirus isolate HPV-mSK_013, complete genome                               |  4 |\n",
       "| SRR8750734  | Severe acute respiratory syndrome coronavirus 2 genome assembly, chromosome: 1               |  1 |\n",
       "| SRR8750801  | Pbunalikevirus phiFenriz, complete genome                                                    |  1 |\n",
       "| SRR8750801  | Severe acute respiratory syndrome coronavirus 2 genome assembly, chromosome: 1               |  1 |\n",
       "\n"
      ],
      "text/plain": [
       "   run        \n",
       "1  SRR14862871\n",
       "2  SRR1778915 \n",
       "3  SRR1778915 \n",
       "4  SRR1778915 \n",
       "5  SRR1778915 \n",
       "6  SRR1778915 \n",
       "7  SRR1778915 \n",
       "8  SRR1778915 \n",
       "9  SRR1778915 \n",
       "10 SRR8750456 \n",
       "11 SRR8750473 \n",
       "12 SRR8750734 \n",
       "13 SRR8750801 \n",
       "14 SRR8750801 \n",
       "   scomnames                                                                                   \n",
       "1  Human parvovirus B19 isolate B19-490, complete genome                                       \n",
       "2  Deltapolyomavirus undecihominis isolate STL2825 major capsid protein (VP1) gene, partial cds\n",
       "3  Deltapolyomavirus undecihominis isolate STL3091 major capsid protein (VP1) gene, partial cds\n",
       "4  Deltapolyomavirus undecihominis isolate STL3150 major capsid protein (VP1) gene, partial cds\n",
       "5  STL polyomavirus isolate 11ww, complete genome                                              \n",
       "6  STL polyomavirus isolate HB124, complete genome                                             \n",
       "7  STL polyomavirus isolate HB201, complete genome                                             \n",
       "8  STL polyomavirus isolate Y57, complete genome                                               \n",
       "9  STL polyomavirus strain WD972, complete genome                                              \n",
       "10 Human papillomavirus type 4, complete genome                                                \n",
       "11 MAG: Human papillomavirus isolate HPV-mSK_013, complete genome                              \n",
       "12 Severe acute respiratory syndrome coronavirus 2 genome assembly, chromosome: 1              \n",
       "13 Pbunalikevirus phiFenriz, complete genome                                                   \n",
       "14 Severe acute respiratory syndrome coronavirus 2 genome assembly, chromosome: 1              \n",
       "   n \n",
       "1   2\n",
       "2  26\n",
       "3   1\n",
       "4   4\n",
       "5   8\n",
       "6   4\n",
       "7  63\n",
       "8   1\n",
       "9   1\n",
       "10  4\n",
       "11  4\n",
       "12  1\n",
       "13  1\n",
       "14  1"
      ]
     },
     "metadata": {},
     "output_type": "display_data"
    }
   ],
   "source": [
    "best_viral_hit_per_read <- blast_human_rm %>%\n",
    "  filter(superkingdom == \"Viruses\") %>%\n",
    "  group_by(vog, qseqid) %>%\n",
    "  slice_max(bitscore) %>%\n",
    "  slice_min(evalue) %>%\n",
    "  slice_head(n = 1) %>%\n",
    "  ungroup()\n",
    "\n",
    "best_viral_hit_per_read %>%\n",
    "  group_by(run, scomnames) %>%\n",
    "  tally()"
   ]
  },
  {
   "cell_type": "markdown",
   "id": "2390af28",
   "metadata": {},
   "source": [
    "From these results, we chose the following genomes to download and map against:\n",
    "* STL polyomavirus isolate HB201, complete genome (GCF_000904055.1) (https://ftp.ncbi.nlm.nih.gov/genomes/all/GCF/000/904/055/GCF_000904055.1_ViralProj186434/)\n",
    "* Human papillomavirus type 4, complete genome (GCF_000864845.1) https://ftp.ncbi.nlm.nih.gov/genomes/all/GCF/000/864/845/GCF_000864845.1_ViralProj15492/\n",
    "* Human papillomavirus isolate HPV-mSK_013, complete genome (MH777161.1)\n",
    "* Human parvovirus B19 isolate B19-490, complete genome (MZ695225.1)\n",
    "* Severe acute respiratory syndrome coronavirus 2 genome assembly, chromosome: 1 (GCF_009858895.2) https://ftp.ncbi.nlm.nih.gov/genomes/all/GCF/009/858/895/GCF_009858895.2_ASM985889v3/\n",
    "* Pbunalikevirus phiFenriz, complete genome (GCA_002597305.1) https://ftp.ncbi.nlm.nih.gov/genomes/all/GCA/002/597/305/GCA_002597305.1_ASM259730v1/\n",
    "\n",
    "These are in addition to the genomes that matched the VOGs"
   ]
  },
  {
   "cell_type": "markdown",
   "id": "96b1d129",
   "metadata": {},
   "source": [
    "## sessionInfo"
   ]
  },
  {
   "cell_type": "code",
   "execution_count": 21,
   "id": "76631381",
   "metadata": {
    "vscode": {
     "languageId": "r"
    }
   },
   "outputs": [
    {
     "data": {
      "text/plain": [
       "R version 4.2.3 (2023-03-15)\n",
       "Platform: x86_64-apple-darwin13.4.0 (64-bit)\n",
       "Running under: macOS Big Sur ... 10.16\n",
       "\n",
       "Matrix products: default\n",
       "BLAS/LAPACK: /Users/taylorreiter/miniconda3/envs/sandbox/lib/libopenblasp-r0.3.21.dylib\n",
       "\n",
       "locale:\n",
       "[1] en_US.UTF-8/en_US.UTF-8/en_US.UTF-8/C/en_US.UTF-8/en_US.UTF-8\n",
       "\n",
       "attached base packages:\n",
       "[1] stats     graphics  grDevices utils     datasets  methods   base     \n",
       "\n",
       "other attached packages:\n",
       "[1] purrr_1.0.1   stringr_1.5.0 janitor_2.2.0 tidyr_1.3.0   dplyr_1.1.2  \n",
       "[6] readr_2.1.4  \n",
       "\n",
       "loaded via a namespace (and not attached):\n",
       " [1] pillar_1.9.0     compiler_4.2.3   base64enc_0.1-3  tools_4.2.3     \n",
       " [5] bit_4.0.5        digest_0.6.31    uuid_1.1-0       jsonlite_1.8.4  \n",
       " [9] lubridate_1.9.2  evaluate_0.20    lifecycle_1.0.3  tibble_3.2.1    \n",
       "[13] timechange_0.2.0 pkgconfig_2.0.3  rlang_1.1.0      IRdisplay_1.1   \n",
       "[17] cli_3.6.1        parallel_4.2.3   IRkernel_1.3.2   fastmap_1.1.1   \n",
       "[21] withr_2.5.0      repr_1.1.6       generics_0.1.3   vctrs_0.6.1     \n",
       "[25] hms_1.1.3        bit64_4.0.5      tidyselect_1.2.0 glue_1.6.2      \n",
       "[29] snakecase_0.11.0 R6_2.5.1         fansi_1.0.4      vroom_1.6.3     \n",
       "[33] pbdZMQ_0.3-9     tzdb_0.3.0       magrittr_2.0.3   htmltools_0.5.5 \n",
       "[37] utf8_1.2.3       stringi_1.7.12   crayon_1.5.2    "
      ]
     },
     "metadata": {},
     "output_type": "display_data"
    }
   ],
   "source": [
    "sessionInfo()"
   ]
  },
  {
   "cell_type": "code",
   "execution_count": null,
   "id": "caa7e163",
   "metadata": {
    "vscode": {
     "languageId": "r"
    }
   },
   "outputs": [],
   "source": []
  }
 ],
 "metadata": {
  "kernelspec": {
   "display_name": "R",
   "language": "R",
   "name": "ir"
  },
  "language_info": {
   "codemirror_mode": "r",
   "file_extension": ".r",
   "mimetype": "text/x-r-source",
   "name": "R",
   "pygments_lexer": "r",
   "version": "4.3.0"
  }
 },
 "nbformat": 4,
 "nbformat_minor": 5
}
